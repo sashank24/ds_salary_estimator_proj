{
 "cells": [
  {
   "cell_type": "code",
   "execution_count": null,
   "metadata": {},
   "outputs": [],
   "source": [
    "import pandas as pd\n",
    "import matplotlib.pyplot as plt\n",
    "import numpy as np\n",
    "%matplotlib inline"
   ]
  },
  {
   "cell_type": "code",
   "execution_count": null,
   "metadata": {},
   "outputs": [],
   "source": [
    "df = pd.read_csv(\"eda_data.csv\")\n",
    "df.head(5)"
   ]
  },
  {
   "cell_type": "markdown",
   "metadata": {},
   "source": [
    "## choose columns"
   ]
  },
  {
   "cell_type": "code",
   "execution_count": 4,
   "metadata": {},
   "outputs": [
    {
     "data": {
      "text/plain": [
       "Index(['Unnamed: 0', 'Job Title', 'Salary Estimate', 'Job Description',\n",
       "       'Rating', 'Company Name', 'Location', 'Headquarters', 'Size', 'Founded',\n",
       "       'Type of ownership', 'Industry', 'Sector', 'Revenue', 'Competitors',\n",
       "       'hour', 'EMP prov salary', 'min_salary', 'max_salary', 'avg_salary',\n",
       "       'Company_txt', 'State', 'same_state', 'age', 'python_job', 'spark_job',\n",
       "       'aws_job', 'excel_job', 'R_job', 'job_par', 'job_rank', 'job_desc_len',\n",
       "       'Competitors_count'],\n",
       "      dtype='object')"
      ]
     },
     "execution_count": 4,
     "metadata": {},
     "output_type": "execute_result"
    }
   ],
   "source": [
    "df.columns \n",
    "#hyper parametr tunning using grid search"
   ]
  },
  {
   "cell_type": "code",
   "execution_count": 5,
   "metadata": {},
   "outputs": [],
   "source": [
    "df_model = df[['avg_salary','Rating','Size','Type of ownership','Industry','Sector','Revenue','Competitors_count','hour','State','EMP prov salary','same_state','age','python_job', 'spark_job',\n",
    "       'aws_job', 'excel_job','job_par', 'job_rank','job_desc_len']]"
   ]
  },
  {
   "cell_type": "markdown",
   "metadata": {},
   "source": [
    "### Get dummy variables"
   ]
  },
  {
   "cell_type": "code",
   "execution_count": 6,
   "metadata": {},
   "outputs": [],
   "source": [
    "df_dummies = pd.get_dummies(df_model)"
   ]
  },
  {
   "cell_type": "code",
   "execution_count": 12,
   "metadata": {},
   "outputs": [
    {
     "data": {
      "text/plain": [
       "132076"
      ]
     },
     "execution_count": 12,
     "metadata": {},
     "output_type": "execute_result"
    }
   ],
   "source": [
    "pd.set_option('display.max_columns', None)\n",
    "df_dummies.head()\n",
    "df_dummies.size"
   ]
  },
  {
   "cell_type": "code",
   "execution_count": 5,
   "metadata": {},
   "outputs": [],
   "source": [
    "X = df_dummies.drop('avg_salary', axis = 1)\n",
    "y = df_dummies.avg_salary.values"
   ]
  },
  {
   "cell_type": "markdown",
   "metadata": {},
   "source": [
    "### Train test split"
   ]
  },
  {
   "cell_type": "code",
   "execution_count": 6,
   "metadata": {},
   "outputs": [],
   "source": [
    "import sklearn\n",
    "from sklearn.model_selection import train_test_split\n",
    "\n",
    "X_train, X_test, y_train, y_test = train_test_split(X, y, test_size = 0.2, random_state = 42)"
   ]
  },
  {
   "cell_type": "markdown",
   "metadata": {},
   "source": [
    "## Linear regression"
   ]
  },
  {
   "cell_type": "code",
   "execution_count": 15,
   "metadata": {},
   "outputs": [],
   "source": [
    "import dill\n",
    "dill.dump_session('model_building.db')"
   ]
  },
  {
   "cell_type": "code",
   "execution_count": 1,
   "metadata": {},
   "outputs": [],
   "source": [
    "import dill\n",
    "dill.load_session('model_building.db')"
   ]
  },
  {
   "cell_type": "code",
   "execution_count": 11,
   "metadata": {},
   "outputs": [],
   "source": [
    "import dill\n",
    "dill.load_session('model_building.db')"
   ]
  },
  {
   "cell_type": "code",
   "execution_count": null,
   "metadata": {},
   "outputs": [],
   "source": [
    "import dill\n",
    "dill.load_session('model_building.db')"
   ]
  },
  {
   "cell_type": "code",
   "execution_count": null,
   "metadata": {},
   "outputs": [],
   "source": [
    "y_train[:10]"
   ]
  },
  {
   "cell_type": "code",
   "execution_count": 8,
   "metadata": {},
   "outputs": [
    {
     "name": "stderr",
     "output_type": "stream",
     "text": [
      "C:\\Users\\Sashank\\Anaconda3\\lib\\site-packages\\numpy\\core\\fromnumeric.py:2389: FutureWarning: Method .ptp is deprecated and will be removed in a future version. Use numpy.ptp instead.\n",
      "  return ptp(axis=axis, out=out, **kwargs)\n"
     ]
    }
   ],
   "source": [
    "import statsmodels.api as sm\n",
    "\n",
    "x_sm = X = sm.add_constant(X)\n",
    "model = sm.OLS(y,x_sm)\n",
    "results = model.fit()"
   ]
  },
  {
   "cell_type": "code",
   "execution_count": 9,
   "metadata": {},
   "outputs": [
    {
     "name": "stdout",
     "output_type": "stream",
     "text": [
      "                            OLS Regression Results                            \n",
      "==============================================================================\n",
      "Dep. Variable:                      y   R-squared:                       0.708\n",
      "Model:                            OLS   Adj. R-squared:                  0.639\n",
      "Method:                 Least Squares   F-statistic:                     10.23\n",
      "Date:                Fri, 07 Aug 2020   Prob (F-statistic):           1.17e-94\n",
      "Time:                        11:43:11   Log-Likelihood:                -3311.3\n",
      "No. Observations:                 742   AIC:                             6909.\n",
      "Df Residuals:                     599   BIC:                             7568.\n",
      "Df Model:                         142                                         \n",
      "Covariance Type:            nonrobust                                         \n",
      "=====================================================================================================================\n",
      "                                                        coef    std err          t      P>|t|      [0.025      0.975]\n",
      "---------------------------------------------------------------------------------------------------------------------\n",
      "const                                                43.2164      6.388      6.765      0.000      30.670      55.762\n",
      "Rating                                                3.5796      1.934      1.851      0.065      -0.218       7.377\n",
      "Competitors_count                                     2.2659      0.869      2.609      0.009       0.560       3.972\n",
      "hour                                                -36.8732      9.183     -4.016      0.000     -54.907     -18.839\n",
      "EMP prov salary                                      31.1231     11.509      2.704      0.007       8.520      53.726\n",
      "same_state                                            2.5529      2.618      0.975      0.330      -2.590       7.695\n",
      "age                                                   0.0335      0.030      1.111      0.267      -0.026       0.093\n",
      "python_job                                            8.0143      2.526      3.173      0.002       3.053      12.976\n",
      "spark_job                                            -0.7743      2.919     -0.265      0.791      -6.508       4.959\n",
      "aws_job                                               2.3953      2.727      0.878      0.380      -2.960       7.751\n",
      "excel_job                                            -0.3810      2.267     -0.168      0.867      -4.834       4.072\n",
      "job_desc_len                                         -0.0002      0.001     -0.240      0.810      -0.002       0.001\n",
      "Size_-1                                              13.4714      8.626      1.562      0.119      -3.469      30.412\n",
      "Size_1 to 50 employees                                1.3023      6.488      0.201      0.841     -11.440      14.044\n",
      "Size_10000+ employees                                -2.8119      5.795     -0.485      0.628     -14.193       8.569\n",
      "Size_1001 to 5000 employees                           6.0380      3.873      1.559      0.119      -1.567      13.643\n",
      "Size_201 to 500 employees                             2.1480      3.865      0.556      0.579      -5.443       9.739\n",
      "Size_5001 to 10000 employees                         -3.8638      5.437     -0.711      0.478     -14.543       6.815\n",
      "Size_501 to 1000 employees                            1.9647      4.046      0.486      0.627      -5.982       9.911\n",
      "Size_51 to 200 employees                              4.2338      4.401      0.962      0.336      -4.410      12.877\n",
      "Size_Unknown                                         20.7339     14.000      1.481      0.139      -6.760      48.228\n",
      "Type of ownership_-1                                 13.4714      8.626      1.562      0.119      -3.469      30.412\n",
      "Type of ownership_College / University                5.6742     17.713      0.320      0.749     -29.113      40.461\n",
      "Type of ownership_Company - Private                   8.4688      5.245      1.615      0.107      -1.833      18.770\n",
      "Type of ownership_Company - Public                   13.0713      5.700      2.293      0.022       1.878      24.265\n",
      "Type of ownership_Government                        -15.1837     15.287     -0.993      0.321     -45.207      14.840\n",
      "Type of ownership_Hospital                           -6.8887      9.964     -0.691      0.490     -26.457      12.679\n",
      "Type of ownership_Nonprofit Organization            -10.0541      6.699     -1.501      0.134     -23.210       3.102\n",
      "Type of ownership_Other Organization                 -6.6679     14.337     -0.465      0.642     -34.825      21.489\n",
      "Type of ownership_School / School District           -4.7708     23.775     -0.201      0.841     -51.463      41.921\n",
      "Type of ownership_Subsidiary or Business Segment     12.7281      6.930      1.837      0.067      -0.882      26.338\n",
      "Type of ownership_Unknown                            33.3678     28.595      1.167      0.244     -22.790      89.526\n",
      "Industry_-1                                           5.9621      7.936      0.751      0.453      -9.623      21.547\n",
      "Industry_Accounting                                   2.6377     13.480      0.196      0.845     -23.835      29.111\n",
      "Industry_Advertising & Marketing                     11.8094      5.958      1.982      0.048       0.109      23.510\n",
      "Industry_Aerospace & Defense                          5.6396      3.104      1.817      0.070      -0.456      11.735\n",
      "Industry_Architectural & Engineering Services       -32.3973     15.929     -2.034      0.042     -63.680      -1.115\n",
      "Industry_Auctions & Galleries                         9.8290     22.868      0.430      0.667     -35.082      54.740\n",
      "Industry_Banks & Credit Unions                      -17.4057      8.049     -2.162      0.031     -33.214      -1.597\n",
      "Industry_Beauty & Personal Accessories Stores        15.4557     21.554      0.717      0.474     -26.876      57.787\n",
      "Industry_Biotech & Pharmaceuticals                    6.4001      2.043      3.133      0.002       2.388      10.412\n",
      "Industry_Brokerage Services                          28.3037     15.515      1.824      0.069      -2.167      58.774\n",
      "Industry_Colleges & Universities                     11.6912     12.996      0.900      0.369     -13.832      37.215\n",
      "Industry_Computer Hardware & Software                -1.0319      3.249     -0.318      0.751      -7.413       5.349\n",
      "Industry_Construction                               -15.4710     10.562     -1.465      0.144     -36.215       5.273\n",
      "Industry_Consulting                                  12.7108      5.904      2.153      0.032       1.115      24.306\n",
      "Industry_Consumer Product Rental                     -2.5079     13.011     -0.193      0.847     -28.060      23.045\n",
      "Industry_Consumer Products Manufacturing             14.1498      9.857      1.436      0.152      -5.208      33.507\n",
      "Industry_Department, Clothing, & Shoe Stores          4.6179     11.575      0.399      0.690     -18.115      27.351\n",
      "Industry_Education Training Services                -23.6773     12.521     -1.891      0.059     -48.268       0.913\n",
      "Industry_Energy                                      -4.2511      7.675     -0.554      0.580     -19.324      10.822\n",
      "Industry_Enterprise Software & Network Solutions      9.3418      3.589      2.603      0.009       2.294      16.390\n",
      "Industry_Farm Support Services                       -0.6580     12.650     -0.052      0.959     -25.501      24.185\n",
      "Industry_Federal Agencies                             8.3437      5.210      1.601      0.110      -1.888      18.576\n",
      "Industry_Financial Analytics & Research               0.4964      9.194      0.054      0.957     -17.560      18.553\n",
      "Industry_Financial Transaction Processing           -17.1420     12.887     -1.330      0.184     -42.451       8.167\n",
      "Industry_Food & Beverage Manufacturing               -2.6184     11.574     -0.226      0.821     -25.349      20.112\n",
      "Industry_Gambling                                    -9.3034      6.519     -1.427      0.154     -22.107       3.500\n",
      "Industry_Gas Stations                               -23.8984     15.541     -1.538      0.125     -54.419       6.623\n",
      "Industry_Health Care Products Manufacturing          19.9895     22.110      0.904      0.366     -23.433      63.412\n",
      "Industry_Health Care Services & Hospitals             5.7207      2.916      1.962      0.050      -0.007      11.448\n",
      "Industry_Health, Beauty, & Fitness                   -1.9843     17.428     -0.114      0.909     -36.211      32.242\n",
      "Industry_IT Services                                  1.3161      3.579      0.368      0.713      -5.713       8.345\n",
      "Industry_Industrial Manufacturing                   -13.4566     12.820     -1.050      0.294     -38.634      11.721\n",
      "Industry_Insurance Agencies & Brokerages             -3.5897      7.006     -0.512      0.609     -17.348      10.169\n",
      "Industry_Insurance Carriers                           5.4200      4.487      1.208      0.228      -3.392      14.232\n",
      "Industry_Internet                                     0.4509      4.514      0.100      0.920      -8.414       9.316\n",
      "Industry_Investment Banking & Asset Management       36.0608     12.082      2.985      0.003      12.332      59.789\n",
      "Industry_K-12 Education                               9.1735     14.771      0.621      0.535     -19.836      38.183\n",
      "Industry_Lending                                     -2.0254      9.856     -0.206      0.837     -21.382      17.331\n",
      "Industry_Logistics & Supply Chain                     1.0172     13.400      0.076      0.940     -25.299      27.333\n",
      "Industry_Metals Brokers                              -8.2623     15.591     -0.530      0.596     -38.881      22.357\n",
      "Industry_Mining                                      -3.6290     17.955     -0.202      0.840     -38.891      31.633\n",
      "Industry_Motion Picture Production & Distribution    46.3051     19.599      2.363      0.018       7.814      84.796\n",
      "Industry_Other Retail Stores                         40.0496     21.685      1.847      0.065      -2.539      82.638\n",
      "Industry_Real Estate                                 -2.4020      4.956     -0.485      0.628     -12.136       7.332\n",
      "Industry_Religious Organizations                     26.0376     13.703      1.900      0.058      -0.874      52.949\n",
      "Industry_Research & Development                      -3.1259      6.546     -0.477      0.633     -15.982       9.731\n",
      "Industry_Security Services                           14.9292      9.791      1.525      0.128      -4.300      34.159\n",
      "Industry_Social Assistance                          -11.2128     11.788     -0.951      0.342     -34.363      11.938\n",
      "Industry_Sporting Goods Stores                      -38.1172     17.825     -2.138      0.033     -73.124      -3.110\n",
      "Industry_Staffing & Outsourcing                      -6.3893     10.979     -0.582      0.561     -27.952      15.173\n",
      "Industry_Stock Exchanges                            -14.9680      7.888     -1.898      0.058     -30.459       0.523\n",
      "Industry_TV Broadcast & Cable Networks                0.3895     15.536      0.025      0.980     -30.122      30.901\n",
      "Industry_Telecommunications Manufacturing             4.6525     13.662      0.341      0.734     -22.179      31.484\n",
      "Industry_Telecommunications Services                 -0.4318     11.258     -0.038      0.969     -22.541      21.678\n",
      "Industry_Transportation Equipment Manufacturing     -20.0327     23.715     -0.845      0.399     -66.607      26.541\n",
      "Industry_Transportation Management                  -20.5118     14.017     -1.463      0.144     -48.040       7.017\n",
      "Industry_Travel Agencies                             -5.5555      5.250     -1.058      0.290     -15.866       4.755\n",
      "Industry_Trucking                                    22.9558     19.843      1.157      0.248     -16.015      61.926\n",
      "Industry_Video Games                                -30.6639     14.424     -2.126      0.034     -58.991      -2.337\n",
      "Industry_Wholesale                                   -1.9200     13.102     -0.147      0.884     -27.652      23.812\n",
      "Sector_-1                                             5.9621      7.936      0.751      0.453      -9.623      21.547\n",
      "Sector_Accounting & Legal                             2.6377     13.480      0.196      0.845     -23.835      29.111\n",
      "Sector_Aerospace & Defense                            5.6396      3.104      1.817      0.070      -0.456      11.735\n",
      "Sector_Agriculture & Forestry                        -0.6580     12.650     -0.052      0.959     -25.501      24.185\n",
      "Sector_Arts, Entertainment & Recreation              -9.3034      6.519     -1.427      0.154     -22.107       3.500\n",
      "Sector_Biotech & Pharmaceuticals                      6.4001      2.043      3.133      0.002       2.388      10.412\n",
      "Sector_Business Services                             -4.3832      4.204     -1.043      0.298     -12.640       3.873\n",
      "Sector_Construction, Repair & Maintenance           -15.4710     10.562     -1.465      0.144     -36.215       5.273\n",
      "Sector_Consumer Services                             -4.4923      9.424     -0.477      0.634     -23.000      14.015\n",
      "Sector_Education                                     -2.8126      6.834     -0.412      0.681     -16.234      10.608\n",
      "Sector_Finance                                       13.3197      4.516      2.950      0.003       4.451      22.188\n",
      "Sector_Government                                     8.3437      5.210      1.601      0.110      -1.888      18.576\n",
      "Sector_Health Care                                    5.7207      2.916      1.962      0.050      -0.007      11.448\n",
      "Sector_Information Technology                        10.0768      2.775      3.631      0.000       4.627      15.527\n",
      "Sector_Insurance                                      1.8303      3.942      0.464      0.643      -5.911       9.572\n",
      "Sector_Manufacturing                                 -1.9683      6.906     -0.285      0.776     -15.530      11.594\n",
      "Sector_Media                                         16.0307      8.719      1.839      0.066      -1.092      33.154\n",
      "Sector_Mining & Metals                              -11.8913     10.719     -1.109      0.268     -32.942       9.160\n",
      "Sector_Non-Profit                                    14.8249      8.920      1.662      0.097      -2.693      32.343\n",
      "Sector_Oil, Gas, Energy & Utilities                  -4.2511      7.675     -0.554      0.580     -19.324      10.822\n",
      "Sector_Real Estate                                   -2.4020      4.956     -0.485      0.628     -12.136       7.332\n",
      "Sector_Retail                                         7.9367      7.168      1.107      0.269      -6.141      22.015\n",
      "Sector_Telecommunications                             4.2207      7.809      0.540      0.589     -11.116      19.558\n",
      "Sector_Transportation & Logistics                     3.4613      8.049      0.430      0.667     -12.346      19.269\n",
      "Sector_Travel & Tourism                              -5.5555      5.250     -1.058      0.290     -15.866       4.755\n",
      "Revenue_$1 to $2 billion (USD)                        3.0297      4.790      0.633      0.527      -6.377      12.436\n",
      "Revenue_$1 to $5 million (USD)                       -5.6599     10.960     -0.516      0.606     -27.184      15.864\n",
      "Revenue_$10 to $25 million (USD)                     -4.6775      5.225     -0.895      0.371     -14.940       5.585\n",
      "Revenue_$10+ billion (USD)                           10.4376      6.399      1.631      0.103      -2.130      23.005\n",
      "Revenue_$100 to $500 million (USD)                   -4.9436      4.056     -1.219      0.223     -12.909       3.021\n",
      "Revenue_$2 to $5 billion (USD)                        0.6088      6.275      0.097      0.923     -11.715      12.933\n",
      "Revenue_$25 to $50 million (USD)                     -5.4615      5.369     -1.017      0.309     -16.006       5.083\n",
      "Revenue_$5 to $10 billion (USD)                       6.8039      7.867      0.865      0.387      -8.647      22.255\n",
      "Revenue_$5 to $10 million (USD)                      31.2578      8.313      3.760      0.000      14.932      47.584\n",
      "Revenue_$50 to $100 million (USD)                     5.1209      4.968      1.031      0.303      -4.635      14.877\n",
      "Revenue_$500 million to $1 billion (USD)             -1.8172      5.312     -0.342      0.732     -12.250       8.615\n",
      "Revenue_-1                                           13.4714      8.626      1.562      0.119      -3.469      30.412\n",
      "Revenue_Less than $1 million (USD)                   -4.5946     15.201     -0.302      0.763     -34.448      25.259\n",
      "Revenue_Unknown / Non-Applicable                     -0.3595      3.059     -0.118      0.906      -6.367       5.648\n",
      "State_AL                                             -6.1644     10.465     -0.589      0.556     -26.716      14.387\n",
      "State_AZ                                            -13.4997      8.626     -1.565      0.118     -30.440       3.441\n",
      "State_CA                                             26.6494      3.155      8.447      0.000      20.454      32.845\n",
      "State_CO                                              7.7187      8.299      0.930      0.353      -8.579      24.017\n",
      "State_CT                                            -24.2275     11.362     -2.132      0.033     -46.542      -1.913\n",
      "State_DC                                             12.9310      8.061      1.604      0.109      -2.900      28.762\n",
      "State_DE                                              9.9886     13.848      0.721      0.471     -17.208      37.185\n",
      "State_FL                                            -16.0278      7.628     -2.101      0.036     -31.008      -1.048\n",
      "State_GA                                            -18.3190     10.113     -1.811      0.071     -38.181       1.543\n",
      "State_IA                                             -2.2364     12.446     -0.180      0.857     -26.680      22.207\n",
      "State_ID                                            -24.1247     18.295     -1.319      0.188     -60.055      11.806\n",
      "State_IL                                              9.0404      5.032      1.797      0.073      -0.842      18.923\n",
      "State_IN                                            -10.4648      8.813     -1.187      0.236     -27.773       6.843\n",
      "State_KS                                            -14.9680      7.888     -1.898      0.058     -30.459       0.523\n",
      "State_KY                                             20.1688     12.354      1.633      0.103      -4.094      44.432\n",
      "State_LA                                             -6.0310     13.075     -0.461      0.645     -31.709      19.647\n",
      "State_MA                                              2.8321      3.870      0.732      0.465      -4.769      10.433\n",
      "State_MD                                              7.9661      4.922      1.619      0.106      -1.700      17.632\n",
      "State_MI                                              7.5514     12.316      0.613      0.540     -16.636      31.739\n",
      "State_MN                                              8.3706     17.262      0.485      0.628     -25.531      42.272\n",
      "State_MO                                             10.1278      9.857      1.027      0.305      -9.230      29.486\n",
      "State_NC                                             -3.7388      6.750     -0.554      0.580     -16.994       9.517\n",
      "State_NE                                             -2.7473     13.447     -0.204      0.838     -29.157      23.662\n",
      "State_NJ                                              0.9094      6.820      0.133      0.894     -12.484      14.303\n",
      "State_NM                                            -30.1709     14.484     -2.083      0.038     -58.617      -1.725\n",
      "State_NY                                              5.5589      4.026      1.381      0.168      -2.349      13.466\n",
      "State_OH                                             -0.5373      8.169     -0.066      0.948     -16.580      15.505\n",
      "State_OR                                              2.2605     12.650      0.179      0.858     -22.582      27.103\n",
      "State_PA                                             10.1341      7.190      1.409      0.159      -3.987      24.255\n",
      "State_RI                                             38.6932     24.706      1.566      0.118      -9.828      87.215\n",
      "State_SC                                             31.0557     29.322      1.059      0.290     -26.531      88.643\n",
      "State_TN                                             -6.4727      9.283     -0.697      0.486     -24.705      11.759\n",
      "State_TX                                              0.3488      5.642      0.062      0.951     -10.733      11.430\n",
      "State_UT                                              2.4907     14.822      0.168      0.867     -26.620      31.601\n",
      "State_VA                                             -0.0690      5.010     -0.014      0.989      -9.908       9.770\n",
      "State_WA                                             12.6432      8.144      1.552      0.121      -3.352      28.638\n",
      "State_WI                                             -4.4239     10.112     -0.437      0.662     -24.284      15.436\n",
      "job_par_analyst                                     -31.3730      3.354     -9.355      0.000     -37.960     -24.786\n",
      "job_par_data engineer                                 1.8855      3.193      0.591      0.555      -4.384       8.155\n",
      "job_par_data scientist                                8.1507      2.525      3.228      0.001       3.192      13.110\n",
      "job_par_director                                     68.5384      6.598     10.388      0.000      55.581      81.496\n",
      "job_par_manager                                     -14.4623      5.599     -2.583      0.010     -25.458      -3.466\n",
      "job_par_mle                                          21.5604      6.019      3.582      0.000       9.739      33.381\n",
      "job_par_na                                          -11.0833      2.956     -3.750      0.000     -16.889      -5.278\n",
      "job_rank_jr                                          10.0684     11.059      0.910      0.363     -11.651      31.788\n",
      "job_rank_na                                           3.6955      4.393      0.841      0.401      -4.932      12.322\n",
      "job_rank_senior                                      29.4525      4.646      6.339      0.000      20.327      38.578\n",
      "==============================================================================\n",
      "Omnibus:                       70.582   Durbin-Watson:                   2.043\n",
      "Prob(Omnibus):                  0.000   Jarque-Bera (JB):              294.087\n",
      "Skew:                           0.328   Prob(JB):                     1.38e-64\n",
      "Kurtosis:                       6.014   Cond. No.                     1.93e+19\n",
      "==============================================================================\n",
      "\n",
      "Warnings:\n",
      "[1] Standard Errors assume that the covariance matrix of the errors is correctly specified.\n",
      "[2] The smallest eigenvalue is 3.52e-29. This might indicate that there are\n",
      "strong multicollinearity problems or that the design matrix is singular.\n"
     ]
    }
   ],
   "source": [
    "print(results.summary())"
   ]
  },
  {
   "cell_type": "code",
   "execution_count": 10,
   "metadata": {},
   "outputs": [
    {
     "data": {
      "text/plain": [
       "['accuracy',\n",
       " 'adjusted_mutual_info_score',\n",
       " 'adjusted_rand_score',\n",
       " 'average_precision',\n",
       " 'balanced_accuracy',\n",
       " 'brier_score_loss',\n",
       " 'completeness_score',\n",
       " 'explained_variance',\n",
       " 'f1',\n",
       " 'f1_macro',\n",
       " 'f1_micro',\n",
       " 'f1_samples',\n",
       " 'f1_weighted',\n",
       " 'fowlkes_mallows_score',\n",
       " 'homogeneity_score',\n",
       " 'jaccard',\n",
       " 'jaccard_macro',\n",
       " 'jaccard_micro',\n",
       " 'jaccard_samples',\n",
       " 'jaccard_weighted',\n",
       " 'max_error',\n",
       " 'mutual_info_score',\n",
       " 'neg_log_loss',\n",
       " 'neg_mean_absolute_error',\n",
       " 'neg_mean_squared_error',\n",
       " 'neg_mean_squared_log_error',\n",
       " 'neg_median_absolute_error',\n",
       " 'normalized_mutual_info_score',\n",
       " 'precision',\n",
       " 'precision_macro',\n",
       " 'precision_micro',\n",
       " 'precision_samples',\n",
       " 'precision_weighted',\n",
       " 'r2',\n",
       " 'recall',\n",
       " 'recall_macro',\n",
       " 'recall_micro',\n",
       " 'recall_samples',\n",
       " 'recall_weighted',\n",
       " 'roc_auc',\n",
       " 'v_measure_score']"
      ]
     },
     "execution_count": 10,
     "metadata": {},
     "output_type": "execute_result"
    }
   ],
   "source": [
    "sorted(sklearn.metrics.SCORERS.keys())"
   ]
  },
  {
   "cell_type": "code",
   "execution_count": 11,
   "metadata": {},
   "outputs": [
    {
     "data": {
      "text/plain": [
       "LinearRegression(copy_X=True, fit_intercept=True, n_jobs=None, normalize=False)"
      ]
     },
     "execution_count": 11,
     "metadata": {},
     "output_type": "execute_result"
    }
   ],
   "source": [
    "from sklearn.linear_model import LinearRegression\n",
    "from sklearn.model_selection import cross_val_score\n",
    "\n",
    "lm = LinearRegression()\n",
    "lm.fit(X_train,y_train)"
   ]
  },
  {
   "cell_type": "code",
   "execution_count": 12,
   "metadata": {},
   "outputs": [
    {
     "data": {
      "text/plain": [
       "-67931514.67124747"
      ]
     },
     "execution_count": 12,
     "metadata": {},
     "output_type": "execute_result"
    }
   ],
   "source": [
    "np.mean(cross_val_score(lm,X_train,y_train,scoring='neg_mean_absolute_error', cv = 3))"
   ]
  },
  {
   "cell_type": "markdown",
   "metadata": {},
   "source": [
    "## Lasso Reg"
   ]
  },
  {
   "cell_type": "code",
   "execution_count": 13,
   "metadata": {},
   "outputs": [],
   "source": [
    "from sklearn.linear_model import Lasso"
   ]
  },
  {
   "cell_type": "code",
   "execution_count": 32,
   "metadata": {},
   "outputs": [
    {
     "data": {
      "text/plain": [
       "-19.267533935490054"
      ]
     },
     "execution_count": 32,
     "metadata": {},
     "output_type": "execute_result"
    }
   ],
   "source": [
    "Lso_reg = Lasso(alpha  = 0.18)\n",
    "Lso_reg.fit(X_train,y_train)\n",
    "np.mean(cross_val_score(Lso_reg,X_train,y_train,scoring='neg_mean_absolute_error', cv = 3))"
   ]
  },
  {
   "cell_type": "code",
   "execution_count": 15,
   "metadata": {},
   "outputs": [
    {
     "name": "stderr",
     "output_type": "stream",
     "text": [
      "C:\\Users\\Sashank\\Anaconda3\\lib\\site-packages\\sklearn\\linear_model\\coordinate_descent.py:475: ConvergenceWarning: Objective did not converge. You might want to increase the number of iterations. Duality gap: 648.0446903533884, tolerance: 57.22447398989902\n",
      "  positive)\n"
     ]
    }
   ],
   "source": [
    "import matplotlib.pyplot as plt\n",
    "\n",
    "alpha = []\n",
    "error = []\n",
    "\n",
    "for i in range(1,100):\n",
    "    alpha.append(i/100)\n",
    "    lml = Lasso(alpha = i/100)\n",
    "    error.append(np.mean(cross_val_score(lml,X_train,y_train,scoring='neg_mean_absolute_error', cv = 3)))\n",
    "    \n"
   ]
  },
  {
   "cell_type": "code",
   "execution_count": 16,
   "metadata": {},
   "outputs": [
    {
     "data": {
      "text/plain": [
       "[<matplotlib.lines.Line2D at 0x2543035b748>]"
      ]
     },
     "execution_count": 16,
     "metadata": {},
     "output_type": "execute_result"
    },
    {
     "data": {
      "image/png": "[encoded data removed]",
      "text/plain": [
       "<Figure size 432x288 with 1 Axes>"
      ]
     },
     "metadata": {
      "needs_background": "light"
     },
     "output_type": "display_data"
    }
   ],
   "source": [
    "plt.plot(alpha,error)"
   ]
  },
  {
   "cell_type": "code",
   "execution_count": 17,
   "metadata": {},
   "outputs": [],
   "source": [
    "err = tuple(zip(alpha,error))\n",
    "df_err = pd.DataFrame(err,columns =['alpha','error'])"
   ]
  },
  {
   "cell_type": "code",
   "execution_count": 18,
   "metadata": {},
   "outputs": [
    {
     "data": {
      "text/html": [
       "<div>\n",
       "<style scoped>\n",
       "    .dataframe tbody tr th:only-of-type {\n",
       "        vertical-align: middle;\n",
       "    }\n",
       "\n",
       "    .dataframe tbody tr th {\n",
       "        vertical-align: top;\n",
       "    }\n",
       "\n",
       "    .dataframe thead th {\n",
       "        text-align: right;\n",
       "    }\n",
       "</style>\n",
       "<table border=\"1\" class=\"dataframe\">\n",
       "  <thead>\n",
       "    <tr style=\"text-align: right;\">\n",
       "      <th></th>\n",
       "      <th>alpha</th>\n",
       "      <th>error</th>\n",
       "    </tr>\n",
       "  </thead>\n",
       "  <tbody>\n",
       "    <tr>\n",
       "      <td>17</td>\n",
       "      <td>0.18</td>\n",
       "      <td>-19.267534</td>\n",
       "    </tr>\n",
       "  </tbody>\n",
       "</table>\n",
       "</div>"
      ],
      "text/plain": [
       "    alpha      error\n",
       "17   0.18 -19.267534"
      ]
     },
     "execution_count": 18,
     "metadata": {},
     "output_type": "execute_result"
    }
   ],
   "source": [
    "df_err[df_err.error== max(df_err.error)]"
   ]
  },
  {
   "cell_type": "code",
   "execution_count": null,
   "metadata": {},
   "outputs": [],
   "source": [
    "import dill\n",
    "dill.load_session('model_building.db')"
   ]
  },
  {
   "cell_type": "code",
   "execution_count": 2,
   "metadata": {},
   "outputs": [],
   "source": [
    "import dill\n",
    "dill.load_session('model_building.db')"
   ]
  },
  {
   "cell_type": "markdown",
   "metadata": {},
   "source": [
    "## Random Forest"
   ]
  },
  {
   "cell_type": "code",
   "execution_count": 19,
   "metadata": {},
   "outputs": [],
   "source": [
    "from sklearn.ensemble import RandomForestRegressor\n",
    "Rf = RandomForestRegressor()"
   ]
  },
  {
   "cell_type": "code",
   "execution_count": 20,
   "metadata": {},
   "outputs": [],
   "source": [
    "from sklearn.model_selection import cross_val_score"
   ]
  },
  {
   "cell_type": "code",
   "execution_count": 22,
   "metadata": {},
   "outputs": [
    {
     "name": "stderr",
     "output_type": "stream",
     "text": [
      "C:\\Users\\Sashank\\Anaconda3\\lib\\site-packages\\sklearn\\ensemble\\forest.py:245: FutureWarning: The default value of n_estimators will change from 10 in version 0.20 to 100 in 0.22.\n",
      "  \"10 in version 0.20 to 100 in 0.22.\", FutureWarning)\n",
      "C:\\Users\\Sashank\\Anaconda3\\lib\\site-packages\\sklearn\\ensemble\\forest.py:245: FutureWarning: The default value of n_estimators will change from 10 in version 0.20 to 100 in 0.22.\n",
      "  \"10 in version 0.20 to 100 in 0.22.\", FutureWarning)\n",
      "C:\\Users\\Sashank\\Anaconda3\\lib\\site-packages\\sklearn\\ensemble\\forest.py:245: FutureWarning: The default value of n_estimators will change from 10 in version 0.20 to 100 in 0.22.\n",
      "  \"10 in version 0.20 to 100 in 0.22.\", FutureWarning)\n",
      "C:\\Users\\Sashank\\Anaconda3\\lib\\site-packages\\sklearn\\ensemble\\forest.py:245: FutureWarning: The default value of n_estimators will change from 10 in version 0.20 to 100 in 0.22.\n",
      "  \"10 in version 0.20 to 100 in 0.22.\", FutureWarning)\n",
      "C:\\Users\\Sashank\\Anaconda3\\lib\\site-packages\\sklearn\\ensemble\\forest.py:245: FutureWarning: The default value of n_estimators will change from 10 in version 0.20 to 100 in 0.22.\n",
      "  \"10 in version 0.20 to 100 in 0.22.\", FutureWarning)\n",
      "C:\\Users\\Sashank\\Anaconda3\\lib\\site-packages\\sklearn\\ensemble\\forest.py:245: FutureWarning: The default value of n_estimators will change from 10 in version 0.20 to 100 in 0.22.\n",
      "  \"10 in version 0.20 to 100 in 0.22.\", FutureWarning)\n",
      "C:\\Users\\Sashank\\Anaconda3\\lib\\site-packages\\sklearn\\ensemble\\forest.py:245: FutureWarning: The default value of n_estimators will change from 10 in version 0.20 to 100 in 0.22.\n",
      "  \"10 in version 0.20 to 100 in 0.22.\", FutureWarning)\n",
      "C:\\Users\\Sashank\\Anaconda3\\lib\\site-packages\\sklearn\\ensemble\\forest.py:245: FutureWarning: The default value of n_estimators will change from 10 in version 0.20 to 100 in 0.22.\n",
      "  \"10 in version 0.20 to 100 in 0.22.\", FutureWarning)\n",
      "C:\\Users\\Sashank\\Anaconda3\\lib\\site-packages\\sklearn\\ensemble\\forest.py:245: FutureWarning: The default value of n_estimators will change from 10 in version 0.20 to 100 in 0.22.\n",
      "  \"10 in version 0.20 to 100 in 0.22.\", FutureWarning)\n",
      "C:\\Users\\Sashank\\Anaconda3\\lib\\site-packages\\sklearn\\ensemble\\forest.py:245: FutureWarning: The default value of n_estimators will change from 10 in version 0.20 to 100 in 0.22.\n",
      "  \"10 in version 0.20 to 100 in 0.22.\", FutureWarning)\n"
     ]
    },
    {
     "data": {
      "text/plain": [
       "-13.853878531073445"
      ]
     },
     "execution_count": 22,
     "metadata": {},
     "output_type": "execute_result"
    }
   ],
   "source": [
    "np.mean(cross_val_score(Rf,X_train,y_train,scoring = 'neg_mean_absolute_error', cv = 10))"
   ]
  },
  {
   "cell_type": "code",
   "execution_count": 23,
   "metadata": {},
   "outputs": [],
   "source": [
    "from sklearn.model_selection import GridSearchCV\n",
    "parameters = {'n_estimators' : range(10,300,10), 'criterion' : ['mse','mae'], 'max_features' : ('auto','sqrt','log2')}"
   ]
  },
  {
   "cell_type": "code",
   "execution_count": 26,
   "metadata": {},
   "outputs": [],
   "source": [
    "gscv = GridSearchCV(Rf, parameters, scoring= 'neg_mean_absolute_error', cv= 3)"
   ]
  },
  {
   "cell_type": "code",
   "execution_count": 27,
   "metadata": {},
   "outputs": [
    {
     "name": "stderr",
     "output_type": "stream",
     "text": [
      "C:\\Users\\Sashank\\Anaconda3\\lib\\site-packages\\sklearn\\model_selection\\_search.py:814: DeprecationWarning: The default of the `iid` parameter will change from True to False in version 0.22 and will be removed in 0.24. This will change numeric results when test-set sizes are unequal.\n",
      "  DeprecationWarning)\n"
     ]
    },
    {
     "data": {
      "text/plain": [
       "GridSearchCV(cv=3, error_score='raise-deprecating',\n",
       "             estimator=RandomForestRegressor(bootstrap=True, criterion='mse',\n",
       "                                             max_depth=None,\n",
       "                                             max_features='auto',\n",
       "                                             max_leaf_nodes=None,\n",
       "                                             min_impurity_decrease=0.0,\n",
       "                                             min_impurity_split=None,\n",
       "                                             min_samples_leaf=1,\n",
       "                                             min_samples_split=2,\n",
       "                                             min_weight_fraction_leaf=0.0,\n",
       "                                             n_estimators='warn', n_jobs=None,\n",
       "                                             oob_score=False, random_state=None,\n",
       "                                             verbose=0, warm_start=False),\n",
       "             iid='warn', n_jobs=None,\n",
       "             param_grid={'criterion': ['mse', 'mae'],\n",
       "                         'max_features': ('auto', 'sqrt', 'log2'),\n",
       "                         'n_estimators': range(10, 300, 10)},\n",
       "             pre_dispatch='2*n_jobs', refit=True, return_train_score=False,\n",
       "             scoring='neg_mean_absolute_error', verbose=0)"
      ]
     },
     "execution_count": 27,
     "metadata": {},
     "output_type": "execute_result"
    }
   ],
   "source": [
    "gscv.fit(X_train,y_train)"
   ]
  },
  {
   "cell_type": "code",
   "execution_count": 28,
   "metadata": {},
   "outputs": [
    {
     "data": {
      "text/plain": [
       "-14.80204769934955"
      ]
     },
     "execution_count": 28,
     "metadata": {},
     "output_type": "execute_result"
    }
   ],
   "source": [
    "gscv.best_score_"
   ]
  },
  {
   "cell_type": "code",
   "execution_count": 29,
   "metadata": {},
   "outputs": [
    {
     "data": {
      "text/plain": [
       "RandomForestRegressor(bootstrap=True, criterion='mae', max_depth=None,\n",
       "                      max_features='auto', max_leaf_nodes=None,\n",
       "                      min_impurity_decrease=0.0, min_impurity_split=None,\n",
       "                      min_samples_leaf=1, min_samples_split=2,\n",
       "                      min_weight_fraction_leaf=0.0, n_estimators=210,\n",
       "                      n_jobs=None, oob_score=False, random_state=None,\n",
       "                      verbose=0, warm_start=False)"
      ]
     },
     "execution_count": 29,
     "metadata": {},
     "output_type": "execute_result"
    }
   ],
   "source": [
    "gscv.best_estimator_"
   ]
  },
  {
   "cell_type": "code",
   "execution_count": 33,
   "metadata": {},
   "outputs": [
    {
     "data": {
      "text/plain": [
       "LinearRegression(copy_X=True, fit_intercept=True, n_jobs=None, normalize=False)"
      ]
     },
     "execution_count": 33,
     "metadata": {},
     "output_type": "execute_result"
    }
   ],
   "source": [
    "from sklearn.linear_model import LinearRegression\n",
    "LR = LinearRegression()\n",
    "LR.fit(X_train,y_train)"
   ]
  },
  {
   "cell_type": "code",
   "execution_count": 34,
   "metadata": {},
   "outputs": [],
   "source": [
    "pred_LR = LR.predict(X_test)\n",
    "pred_LS = Lso_reg.predict(X_test)\n",
    "pred_RF = gscv.best_estimator_.predict(X_test)"
   ]
  },
  {
   "cell_type": "code",
   "execution_count": 35,
   "metadata": {},
   "outputs": [],
   "source": [
    "from sklearn.metrics import mean_absolute_error"
   ]
  },
  {
   "cell_type": "code",
   "execution_count": 37,
   "metadata": {},
   "outputs": [
    {
     "data": {
      "text/plain": [
       "18.955175498290167"
      ]
     },
     "execution_count": 37,
     "metadata": {},
     "output_type": "execute_result"
    }
   ],
   "source": [
    "mean_absolute_error(y_test,pred_LR)"
   ]
  },
  {
   "cell_type": "code",
   "execution_count": 38,
   "metadata": {},
   "outputs": [
    {
     "data": {
      "text/plain": [
       "19.972354712465243"
      ]
     },
     "execution_count": 38,
     "metadata": {},
     "output_type": "execute_result"
    }
   ],
   "source": [
    "mean_absolute_error(y_test,pred_LS)"
   ]
  },
  {
   "cell_type": "code",
   "execution_count": 39,
   "metadata": {},
   "outputs": [
    {
     "data": {
      "text/plain": [
       "11.416323106423777"
      ]
     },
     "execution_count": 39,
     "metadata": {},
     "output_type": "execute_result"
    }
   ],
   "source": [
    "mean_absolute_error(y_test,pred_RF)"
   ]
  },
  {
   "cell_type": "code",
   "execution_count": 40,
   "metadata": {},
   "outputs": [],
   "source": [
    "import dill\n",
    "dill.dump_session('Model_Building.db')"
   ]
  },
  {
   "cell_type": "code",
   "execution_count": 44,
   "metadata": {},
   "outputs": [],
   "source": [
    "import pickle\n",
    "pickl = {'model' : gscv.best_estimator_}\n",
    "pickle.dump(pickl, open('model_file' + \".p\", \"wb\"))"
   ]
  },
  {
   "cell_type": "code",
   "execution_count": 45,
   "metadata": {},
   "outputs": [],
   "source": [
    "file_name = \"model_file.p\"\n",
    "with open(file_name, 'rb') as pickled:\n",
    "    data = pickle.load(pickled)\n",
    "    model = data['model']"
   ]
  },
  {
   "cell_type": "code",
   "execution_count": 49,
   "metadata": {},
   "outputs": [
    {
     "data": {
      "text/plain": [
       "array([53.75])"
      ]
     },
     "execution_count": 49,
     "metadata": {},
     "output_type": "execute_result"
    }
   ],
   "source": [
    "model.predict(X_test.iloc[1,:].values.reshape(1,-1))"
   ]
  }
 ],
 "metadata": {
  "kernelspec": {
   "display_name": "Python 3",
   "language": "python",
   "name": "python3"
  },
  "language_info": {
   "codemirror_mode": {
    "name": "ipython",
    "version": 3
   },
   "file_extension": ".py",
   "mimetype": "text/x-python",
   "name": "python",
   "nbconvert_exporter": "python",
   "pygments_lexer": "ipython3",
   "version": "3.7.4"
  }
 },
 "nbformat": 4,
 "nbformat_minor": 2
}
